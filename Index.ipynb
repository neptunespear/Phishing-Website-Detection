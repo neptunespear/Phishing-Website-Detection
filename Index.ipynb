{
 "cells": [
  {
   "cell_type": "code",
   "execution_count": 9,
   "metadata": {},
   "outputs": [],
   "source": [
    "#importing libraries\n",
    "import joblib\n",
    "import Inputscript"
   ]
  },
  {
   "cell_type": "code",
   "execution_count": 10,
   "metadata": {},
   "outputs": [],
   "source": [
    "#load the pickle file\n",
    "classifier = joblib.load('rf_final.pkl')"
   ]
  },
  {
   "cell_type": "code",
   "execution_count": 14,
   "metadata": {},
   "outputs": [
    {
     "name": "stdout",
     "output_type": "stream",
     "text": [
      "\n",
      "\n",
      "\n",
      "\n",
      "Welcome to the phishing website detection software !\n",
      "\n",
      "Enter the Website URL: http://12.34.56.78/firstgenericbank/account-update/\n"
     ]
    }
   ],
   "source": [
    "#input url\n",
    "print(\"\\n\\n\\n\\nWelcome to the phishing website detection software !\\n\")   \n",
    "url = input(\"Enter the Website URL: \")"
   ]
  },
  {
   "cell_type": "code",
   "execution_count": 15,
   "metadata": {},
   "outputs": [],
   "source": [
    "#checking and predicting\n",
    "checkprediction = Inputscript.main(url) \n",
    "prediction = classifier.predict(checkprediction)"
   ]
  },
  {
   "cell_type": "code",
   "execution_count": 16,
   "metadata": {},
   "outputs": [
    {
     "name": "stdout",
     "output_type": "stream",
     "text": [
      "The site is a phishing site\n"
     ]
    }
   ],
   "source": [
    "#Printing the result\n",
    "if(prediction == 1):\n",
    "    print(\"The site is a phishing site\")\n",
    "else:\n",
    "    print(\"The site is not a phishing site\")"
   ]
  },
  {
   "cell_type": "code",
   "execution_count": null,
   "metadata": {},
   "outputs": [],
   "source": []
  }
 ],
 "metadata": {
  "kernelspec": {
   "display_name": "Python 3",
   "language": "python",
   "name": "python3"
  },
  "language_info": {
   "codemirror_mode": {
    "name": "ipython",
    "version": 3
   },
   "file_extension": ".py",
   "mimetype": "text/x-python",
   "name": "python",
   "nbconvert_exporter": "python",
   "pygments_lexer": "ipython3",
   "version": "3.8.5"
  }
 },
 "nbformat": 4,
 "nbformat_minor": 4
}
